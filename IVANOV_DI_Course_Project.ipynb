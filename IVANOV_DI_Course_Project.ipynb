{
 "cells": [
  {
   "cell_type": "code",
   "execution_count": 20,
   "id": "4e64a335",
   "metadata": {},
   "outputs": [],
   "source": [
    "import numpy as np # linear algebra\n",
    "import pandas as pd # data processing, CSV file I/O (e.g. pd.read_csv)"
   ]
  },
  {
   "cell_type": "code",
   "execution_count": null,
   "id": "2ffbd317",
   "metadata": {},
   "outputs": [],
   "source": [
    "import os\n",
    "for dirname, _, filenames in os.walk('C:/Users/ID/Documents/jupyter-notebook'):\n",
    "    for filename in filenames:\n",
    "        print(os.path.join(dirname, filename))"
   ]
  },
  {
   "cell_type": "code",
   "execution_count": 9,
   "id": "f12c241f",
   "metadata": {},
   "outputs": [],
   "source": [
    "from sklearn.metrics import classification_report, f1_score\n",
    "from sklearn.model_selection import train_test_split, cross_val_score\n",
    "from sklearn.experimental import enable_iterative_imputer\n",
    "from sklearn.impute import IterativeImputer\n",
    "from numpy import nan\n",
    "from pathlib import Path\n",
    "from operator import itemgetter\n",
    "from catboost import CatBoostClassifier"
   ]
  },
  {
   "cell_type": "code",
   "execution_count": 10,
   "id": "5759dac9",
   "metadata": {},
   "outputs": [],
   "source": [
    "def score(model):\n",
    "    p_train = model.predict(X_train)\n",
    "    print(classification_report(p_train, y_train))\n",
    "    print(f1_score(y_train, p_train))\n",
    "    p_test = model.predict(X_test)\n",
    "    print(classification_report(p_test, y_test))\n",
    "    print(f1_score(y_test, p_test))"
   ]
  },
  {
   "cell_type": "code",
   "execution_count": 13,
   "id": "55fefff7",
   "metadata": {},
   "outputs": [],
   "source": [
    "dataroot = Path('C:/Users/ID/Documents/jupyter-notebook')"
   ]
  },
  {
   "cell_type": "code",
   "execution_count": 14,
   "id": "7c68d714",
   "metadata": {},
   "outputs": [],
   "source": [
    "TARGET = 'Credit Default'"
   ]
  },
  {
   "cell_type": "code",
   "execution_count": 22,
   "id": "68f8f194",
   "metadata": {},
   "outputs": [
    {
     "data": {
      "text/plain": [
       "(7500, 17)"
      ]
     },
     "execution_count": 22,
     "metadata": {},
     "output_type": "execute_result"
    }
   ],
   "source": [
    "df_train = pd.read_csv(dataroot / 'course_project_train.csv')\n",
    "df_train.shape"
   ]
  },
  {
   "cell_type": "code",
   "execution_count": 23,
   "id": "f8c8162d",
   "metadata": {},
   "outputs": [
    {
     "data": {
      "text/plain": [
       "(2500, 16)"
      ]
     },
     "execution_count": 23,
     "metadata": {},
     "output_type": "execute_result"
    }
   ],
   "source": [
    "df_pred = pd.read_csv(dataroot / 'course_project_test.csv')\n",
    "df_pred.shape"
   ]
  },
  {
   "cell_type": "code",
   "execution_count": 24,
   "id": "f3496575",
   "metadata": {},
   "outputs": [
    {
     "data": {
      "text/plain": [
       "(10000, 16)"
      ]
     },
     "execution_count": 24,
     "metadata": {},
     "output_type": "execute_result"
    }
   ],
   "source": [
    "df = pd.concat( [df_train.drop(TARGET, axis=1), df_pred]).reset_index(drop=True)\n",
    "df.shape"
   ]
  },
  {
   "cell_type": "code",
   "execution_count": 25,
   "id": "f2580709",
   "metadata": {},
   "outputs": [
    {
     "data": {
      "text/plain": [
       "<AxesSubplot:xlabel='Credit Score', ylabel='Credit Default'>"
      ]
     },
     "execution_count": 25,
     "metadata": {},
     "output_type": "execute_result"
    },
    {
     "data": {
      "image/png": "[encoded data removed]",
      "text/plain": [
       "<Figure size 432x288 with 1 Axes>"
      ]
     },
     "metadata": {
      "needs_background": "light"
     },
     "output_type": "display_data"
    }
   ],
   "source": [
    "df_train.plot(x='Credit Score', y=TARGET, kind='scatter')"
   ]
  },
  {
   "cell_type": "code",
   "execution_count": 26,
   "id": "a33108fe",
   "metadata": {},
   "outputs": [],
   "source": [
    "ii = df['Credit Score']>5000\n",
    "df['Big Score'] = 0\n",
    "df.loc[ii, 'Big Score'] = 1\n",
    "df.loc[ii, 'Credit Score'] *= 0.1"
   ]
  },
  {
   "cell_type": "code",
   "execution_count": 27,
   "id": "b8fcb40f",
   "metadata": {},
   "outputs": [
    {
     "data": {
      "text/plain": [
       "<AxesSubplot:>"
      ]
     },
     "execution_count": 27,
     "metadata": {},
     "output_type": "execute_result"
    },
    {
     "data": {
      "image/png": "[encoded data removed]",
      "text/plain": [
       "<Figure size 432x288 with 1 Axes>"
      ]
     },
     "metadata": {
      "needs_background": "light"
     },
     "output_type": "display_data"
    }
   ],
   "source": [
    "df['Credit Score'].hist()"
   ]
  },
  {
   "cell_type": "code",
   "execution_count": 28,
   "id": "9c7c0b04",
   "metadata": {},
   "outputs": [
    {
     "data": {
      "text/plain": [
       "<AxesSubplot:xlabel='Current Loan Amount', ylabel='Credit Default'>"
      ]
     },
     "execution_count": 28,
     "metadata": {},
     "output_type": "execute_result"
    },
    {
     "data": {
      "image/png": "[encoded data removed]",
      "text/plain": [
       "<Figure size 432x288 with 1 Axes>"
      ]
     },
     "metadata": {
      "needs_background": "light"
     },
     "output_type": "display_data"
    }
   ],
   "source": [
    "df_train.plot(x='Current Loan Amount', y=TARGET, kind='scatter')"
   ]
  },
  {
   "cell_type": "code",
   "execution_count": 29,
   "id": "733b403d",
   "metadata": {},
   "outputs": [],
   "source": [
    "ii = df['Current Loan Amount'] > 5e7\n",
    "df['Big Loan'] = 0\n",
    "df.loc[ii, 'Big Loan'] = 1\n",
    "df.loc[ii, 'Current Loan Amount'] = nan"
   ]
  },
  {
   "cell_type": "code",
   "execution_count": 30,
   "id": "b998b41c",
   "metadata": {},
   "outputs": [],
   "source": [
    "years_dict = {'10+ years':10, '8 years':8, '6 years':6, '7 years':7, '5 years':5, '1 year':1,\n",
    "       '< 1 year':0, '4 years':4, '3 years':3, '2 years':2, '9 years':9}"
   ]
  },
  {
   "cell_type": "code",
   "execution_count": 31,
   "id": "2daa786d",
   "metadata": {},
   "outputs": [],
   "source": [
    "df.replace({'Years in current job':years_dict}, inplace=True)"
   ]
  },
  {
   "cell_type": "code",
   "execution_count": 32,
   "id": "3877bc86",
   "metadata": {},
   "outputs": [
    {
     "data": {
      "text/plain": [
       "{'Home Ownership': {'Own Home': 0,\n",
       "  'Home Mortgage': 1,\n",
       "  'Rent': 2,\n",
       "  'Have Mortgage': 3},\n",
       " 'Purpose': {'debt consolidation': 0,\n",
       "  'other': 1,\n",
       "  'home improvements': 2,\n",
       "  'take a trip': 3,\n",
       "  'buy a car': 4,\n",
       "  'small business': 5,\n",
       "  'business loan': 6,\n",
       "  'wedding': 7,\n",
       "  'educational expenses': 8,\n",
       "  'buy house': 9,\n",
       "  'medical bills': 10,\n",
       "  'moving': 11,\n",
       "  'major purchase': 12,\n",
       "  'vacation': 13,\n",
       "  'renewable energy': 14},\n",
       " 'Term': {'Short Term': 0, 'Long Term': 1}}"
      ]
     },
     "execution_count": 32,
     "metadata": {},
     "output_type": "execute_result"
    }
   ],
   "source": [
    "cat_rep = {col: {k: v for v, k in enumerate(df[col].unique())} for col in df.select_dtypes(object).columns}\n",
    "cat_rep"
   ]
  },
  {
   "cell_type": "code",
   "execution_count": 33,
   "id": "9c3397b9",
   "metadata": {},
   "outputs": [],
   "source": [
    "df.replace(cat_rep, inplace=True)"
   ]
  },
  {
   "cell_type": "code",
   "execution_count": 34,
   "id": "3e36ceef",
   "metadata": {},
   "outputs": [],
   "source": [
    "imp = IterativeImputer(random_state=0)\n",
    "df = pd.DataFrame(imp.fit_transform(df), columns=df.columns)"
   ]
  },
  {
   "cell_type": "code",
   "execution_count": 35,
   "id": "b5903255",
   "metadata": {},
   "outputs": [
    {
     "data": {
      "text/html": [
       "<div>\n",
       "<style scoped>\n",
       "    .dataframe tbody tr th:only-of-type {\n",
       "        vertical-align: middle;\n",
       "    }\n",
       "\n",
       "    .dataframe tbody tr th {\n",
       "        vertical-align: top;\n",
       "    }\n",
       "\n",
       "    .dataframe thead th {\n",
       "        text-align: right;\n",
       "    }\n",
       "</style>\n",
       "<table border=\"1\" class=\"dataframe\">\n",
       "  <thead>\n",
       "    <tr style=\"text-align: right;\">\n",
       "      <th></th>\n",
       "      <th>Home Ownership</th>\n",
       "      <th>Annual Income</th>\n",
       "      <th>Years in current job</th>\n",
       "      <th>Tax Liens</th>\n",
       "      <th>Number of Open Accounts</th>\n",
       "      <th>Years of Credit History</th>\n",
       "      <th>Maximum Open Credit</th>\n",
       "      <th>Number of Credit Problems</th>\n",
       "      <th>Months since last delinquent</th>\n",
       "      <th>Bankruptcies</th>\n",
       "      <th>Purpose</th>\n",
       "      <th>Term</th>\n",
       "      <th>Current Loan Amount</th>\n",
       "      <th>Current Credit Balance</th>\n",
       "      <th>Monthly Debt</th>\n",
       "      <th>Credit Score</th>\n",
       "      <th>Big Score</th>\n",
       "      <th>Big Loan</th>\n",
       "    </tr>\n",
       "  </thead>\n",
       "  <tbody>\n",
       "    <tr>\n",
       "      <th>0</th>\n",
       "      <td>0.0</td>\n",
       "      <td>482087.0</td>\n",
       "      <td>7.437576</td>\n",
       "      <td>0.0</td>\n",
       "      <td>11.0</td>\n",
       "      <td>26.3</td>\n",
       "      <td>685960.0</td>\n",
       "      <td>1.0</td>\n",
       "      <td>39.916256</td>\n",
       "      <td>1.0</td>\n",
       "      <td>0.0</td>\n",
       "      <td>0.0</td>\n",
       "      <td>198876.564849</td>\n",
       "      <td>47386.0</td>\n",
       "      <td>7914.0</td>\n",
       "      <td>749.0</td>\n",
       "      <td>0.0</td>\n",
       "      <td>1.0</td>\n",
       "    </tr>\n",
       "    <tr>\n",
       "      <th>1</th>\n",
       "      <td>0.0</td>\n",
       "      <td>1025487.0</td>\n",
       "      <td>10.000000</td>\n",
       "      <td>0.0</td>\n",
       "      <td>15.0</td>\n",
       "      <td>15.3</td>\n",
       "      <td>1181730.0</td>\n",
       "      <td>0.0</td>\n",
       "      <td>33.220391</td>\n",
       "      <td>0.0</td>\n",
       "      <td>0.0</td>\n",
       "      <td>1.0</td>\n",
       "      <td>264968.000000</td>\n",
       "      <td>394972.0</td>\n",
       "      <td>18373.0</td>\n",
       "      <td>737.0</td>\n",
       "      <td>0.0</td>\n",
       "      <td>0.0</td>\n",
       "    </tr>\n",
       "    <tr>\n",
       "      <th>2</th>\n",
       "      <td>1.0</td>\n",
       "      <td>751412.0</td>\n",
       "      <td>8.000000</td>\n",
       "      <td>0.0</td>\n",
       "      <td>11.0</td>\n",
       "      <td>35.0</td>\n",
       "      <td>1182434.0</td>\n",
       "      <td>0.0</td>\n",
       "      <td>33.861186</td>\n",
       "      <td>0.0</td>\n",
       "      <td>0.0</td>\n",
       "      <td>0.0</td>\n",
       "      <td>255199.030251</td>\n",
       "      <td>308389.0</td>\n",
       "      <td>13651.0</td>\n",
       "      <td>742.0</td>\n",
       "      <td>0.0</td>\n",
       "      <td>1.0</td>\n",
       "    </tr>\n",
       "    <tr>\n",
       "      <th>3</th>\n",
       "      <td>0.0</td>\n",
       "      <td>805068.0</td>\n",
       "      <td>6.000000</td>\n",
       "      <td>0.0</td>\n",
       "      <td>8.0</td>\n",
       "      <td>22.5</td>\n",
       "      <td>147400.0</td>\n",
       "      <td>1.0</td>\n",
       "      <td>39.459119</td>\n",
       "      <td>1.0</td>\n",
       "      <td>0.0</td>\n",
       "      <td>0.0</td>\n",
       "      <td>121396.000000</td>\n",
       "      <td>95855.0</td>\n",
       "      <td>11338.0</td>\n",
       "      <td>694.0</td>\n",
       "      <td>0.0</td>\n",
       "      <td>0.0</td>\n",
       "    </tr>\n",
       "    <tr>\n",
       "      <th>4</th>\n",
       "      <td>2.0</td>\n",
       "      <td>776264.0</td>\n",
       "      <td>8.000000</td>\n",
       "      <td>0.0</td>\n",
       "      <td>13.0</td>\n",
       "      <td>13.6</td>\n",
       "      <td>385836.0</td>\n",
       "      <td>1.0</td>\n",
       "      <td>38.148432</td>\n",
       "      <td>0.0</td>\n",
       "      <td>0.0</td>\n",
       "      <td>0.0</td>\n",
       "      <td>125840.000000</td>\n",
       "      <td>93309.0</td>\n",
       "      <td>7180.0</td>\n",
       "      <td>719.0</td>\n",
       "      <td>0.0</td>\n",
       "      <td>0.0</td>\n",
       "    </tr>\n",
       "  </tbody>\n",
       "</table>\n",
       "</div>"
      ],
      "text/plain": [
       "   Home Ownership  Annual Income  Years in current job  Tax Liens  \\\n",
       "0             0.0       482087.0              7.437576        0.0   \n",
       "1             0.0      1025487.0             10.000000        0.0   \n",
       "2             1.0       751412.0              8.000000        0.0   \n",
       "3             0.0       805068.0              6.000000        0.0   \n",
       "4             2.0       776264.0              8.000000        0.0   \n",
       "\n",
       "   Number of Open Accounts  Years of Credit History  Maximum Open Credit  \\\n",
       "0                     11.0                     26.3             685960.0   \n",
       "1                     15.0                     15.3            1181730.0   \n",
       "2                     11.0                     35.0            1182434.0   \n",
       "3                      8.0                     22.5             147400.0   \n",
       "4                     13.0                     13.6             385836.0   \n",
       "\n",
       "   Number of Credit Problems  Months since last delinquent  Bankruptcies  \\\n",
       "0                        1.0                     39.916256           1.0   \n",
       "1                        0.0                     33.220391           0.0   \n",
       "2                        0.0                     33.861186           0.0   \n",
       "3                        1.0                     39.459119           1.0   \n",
       "4                        1.0                     38.148432           0.0   \n",
       "\n",
       "   Purpose  Term  Current Loan Amount  Current Credit Balance  Monthly Debt  \\\n",
       "0      0.0   0.0        198876.564849                 47386.0        7914.0   \n",
       "1      0.0   1.0        264968.000000                394972.0       18373.0   \n",
       "2      0.0   0.0        255199.030251                308389.0       13651.0   \n",
       "3      0.0   0.0        121396.000000                 95855.0       11338.0   \n",
       "4      0.0   0.0        125840.000000                 93309.0        7180.0   \n",
       "\n",
       "   Credit Score  Big Score  Big Loan  \n",
       "0         749.0        0.0       1.0  \n",
       "1         737.0        0.0       0.0  \n",
       "2         742.0        0.0       1.0  \n",
       "3         694.0        0.0       0.0  \n",
       "4         719.0        0.0       0.0  "
      ]
     },
     "execution_count": 35,
     "metadata": {},
     "output_type": "execute_result"
    }
   ],
   "source": [
    "df.head()"
   ]
  },
  {
   "cell_type": "markdown",
   "id": "fd31fb29",
   "metadata": {},
   "source": [
    "###### CatBoost не работает, если категории во float, поэтому переводим их в int"
   ]
  },
  {
   "cell_type": "code",
   "execution_count": 37,
   "id": "038007fb",
   "metadata": {},
   "outputs": [],
   "source": [
    "catcols = [\n",
    "    'Home Ownership', 'Years in current job', 'Tax Liens',\n",
    "    'Number of Open Accounts', 'Number of Credit Problems','Months since last delinquent',\n",
    "    'Bankruptcies', 'Purpose', 'Term']"
   ]
  },
  {
   "cell_type": "code",
   "execution_count": 38,
   "id": "fee74d07",
   "metadata": {},
   "outputs": [],
   "source": [
    "df[catcols] = df[catcols].astype(int)"
   ]
  },
  {
   "cell_type": "code",
   "execution_count": 39,
   "id": "2a6b1548",
   "metadata": {},
   "outputs": [],
   "source": [
    "X = df.iloc[:7500]"
   ]
  },
  {
   "cell_type": "code",
   "execution_count": 40,
   "id": "bd517a42",
   "metadata": {},
   "outputs": [],
   "source": [
    "y = df_train[TARGET]"
   ]
  },
  {
   "cell_type": "code",
   "execution_count": 41,
   "id": "e026a16b",
   "metadata": {},
   "outputs": [],
   "source": [
    "X_train, X_test, y_train, y_test = train_test_split(X, y, test_size=0.2, random_state=24, stratify=y)"
   ]
  },
  {
   "cell_type": "code",
   "execution_count": 42,
   "id": "9c87d5a2",
   "metadata": {},
   "outputs": [
    {
     "name": "stdout",
     "output_type": "stream",
     "text": [
      "              precision    recall  f1-score   support\n",
      "\n",
      "           0       0.75      0.93      0.83      3470\n",
      "           1       0.85      0.57      0.68      2530\n",
      "\n",
      "    accuracy                           0.78      6000\n",
      "   macro avg       0.80      0.75      0.75      6000\n",
      "weighted avg       0.79      0.78      0.77      6000\n",
      "\n",
      "0.680568720379147\n",
      "              precision    recall  f1-score   support\n",
      "\n",
      "           0       0.68      0.85      0.76       867\n",
      "           1       0.69      0.46      0.55       633\n",
      "\n",
      "    accuracy                           0.69      1500\n",
      "   macro avg       0.69      0.66      0.66      1500\n",
      "weighted avg       0.69      0.69      0.67      1500\n",
      "\n",
      "0.553030303030303\n"
     ]
    }
   ],
   "source": [
    "cat_cls = CatBoostClassifier(\n",
    "    class_weights=[1, 3],\n",
    "    verbose=False)\n",
    "cat_cls.fit(X_train, y_train, cat_features=catcols)\n",
    "score(cat_cls)"
   ]
  }
 ],
 "metadata": {
  "kernelspec": {
   "display_name": "Python 3",
   "language": "python",
   "name": "python3"
  },
  "language_info": {
   "codemirror_mode": {
    "name": "ipython",
    "version": 3
   },
   "file_extension": ".py",
   "mimetype": "text/x-python",
   "name": "python",
   "nbconvert_exporter": "python",
   "pygments_lexer": "ipython3",
   "version": "3.8.8"
  }
 },
 "nbformat": 4,
 "nbformat_minor": 5
}
